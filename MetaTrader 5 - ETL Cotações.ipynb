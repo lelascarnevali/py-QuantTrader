{
 "cells": [
  {
   "cell_type": "code",
   "execution_count": 1,
   "id": "eae302c9",
   "metadata": {},
   "outputs": [],
   "source": [
    "import MetaTrader5 as mt5\n",
    "import pandas as pd\n",
    "from datetime import datetime, timedelta"
   ]
  },
  {
   "cell_type": "code",
   "execution_count": 2,
   "id": "2e09a68e",
   "metadata": {},
   "outputs": [],
   "source": [
    "# connect to MetaTrader 5\n",
    "if not mt5.initialize():\n",
    "    print('initialize() failed')\n",
    "    mt5.shutdown()"
   ]
  },
  {
   "cell_type": "code",
   "execution_count": 8,
   "id": "50308209",
   "metadata": {},
   "outputs": [],
   "source": [
    "def request_ticks(ticker, data_ini, data_fim, timeframe=mt5.TIMEFRAME_D1):\n",
    "    try:\n",
    "        ticks = mt5.copy_rates_range(\n",
    "            ticker, \n",
    "            timeframe,\n",
    "            data_ini, \n",
    "            data_fim)\n",
    "    \n",
    "        ticks = pd.DataFrame(ticks)\n",
    "        ticks['time']=pd.to_datetime(ticks['time'], unit='s')\n",
    "        ticks = ticks.drop(columns=['tick_volume','spread'])\n",
    "        ticks = ticks.sort_values(by=\"time\", ascending=False)\n",
    "        ticks.rename(columns={'real_volume': 'volume'}, inplace=True)\n",
    "        return(ticks)\n",
    "    except ValeuError:\n",
    "        print ('Erro na extração do Metatrader')"
   ]
  },
  {
   "cell_type": "code",
   "execution_count": 4,
   "id": "1ce1bcb4",
   "metadata": {},
   "outputs": [],
   "source": [
    "def export_ticker(dataframe_ticker, ticker, Export_Type = 'csv'):\n",
    "    try:\n",
    "        if Export_Type == 'parquet':\n",
    "            dataframe_ticker.to_parquet(\"E:\\Dados Bolsa\\Diário\\{}.parquet.gzip\".format(ticker), compression=\"gzip\")\n",
    "        elif Export_Type == 'csv':\n",
    "            dataframe_ticker.to_csv(\"E:\\Dados Bolsa\\Diário\\{}.csv\".format(ticker), sep= \";\", index=False)\n",
    "        elif Export_Type == 'tsv':\n",
    "            dataframe_ticker.to_csv(\"E:\\Dados Bolsa\\Diário\\{}.txt\".format(ticker), sep= \"\\t\", index=False)\n",
    "        print('Sucesso na exportação: ' + ticker)\n",
    "    except ValeuError:\n",
    "        print ('Erro na Exportação: ' + ticker)"
   ]
  },
  {
   "cell_type": "code",
   "execution_count": 10,
   "id": "f8991842",
   "metadata": {},
   "outputs": [
    {
     "name": "stdout",
     "output_type": "stream",
     "text": [
      "Sucesso na exportação: PETZ3\n",
      "Sucesso na exportação: PSSA3\n",
      "Sucesso na exportação: POSI3\n",
      "Sucesso na exportação: QUAL3\n",
      "Sucesso na exportação: RADL3\n",
      "Sucesso na exportação: RAPT4\n",
      "Sucesso na exportação: RDOR3\n",
      "Sucesso na exportação: RAIL3\n",
      "Sucesso na exportação: SBSP3\n",
      "Sucesso na exportação: SAPR11\n",
      "Sucesso na exportação: SANB11\n",
      "Sucesso na exportação: CSNA3\n",
      "Sucesso na exportação: SULA11\n",
      "Sucesso na exportação: SUZB3\n",
      "Sucesso na exportação: TAEE11\n",
      "Sucesso na exportação: TASA4\n",
      "Sucesso na exportação: VIVT3\n",
      "Sucesso na exportação: TIMS3\n",
      "Sucesso na exportação: TOTS3\n",
      "Sucesso na exportação: UGPA3\n",
      "Sucesso na exportação: USIM5\n",
      "Sucesso na exportação: VALE3\n",
      "Sucesso na exportação: VIIA3\n",
      "Sucesso na exportação: WEGE3\n",
      "Sucesso na exportação: YDUQ3\n"
     ]
    }
   ],
   "source": [
    "data_ini = datetime(2008, 1, 1)\n",
    "data_fim = datetime(2021, 12, 31)\n",
    "tickers = ['IBOV', 'ALPA4',  'ABEV3',  'AMER3',  'ASAI3',  'AZUL4',  'B3SA3',  'BIDI4',  'BIDI11',  'BPAN4',  'BBSE3',\n",
    "           'BRML3',  'BBDC3',  'BBDC4',  'BRAP4',  'BBAS3',  'BRKM5',  'BRFS3',  'BPAC11',  'CRFB3',  'CCRO3',  'CMIG4',\n",
    "           'CESP6',  'CIEL3',  'COGN3',  'CPLE6',  'CSAN3',  'CPFE3',  'CVCB3',  'CYRE3',  'DXCO3',  'ECOR3',  'ELET3',\n",
    "           'ELET6',  'EMBR3',  'ENBR3',  'ENGI11',  'ENEV3',  'EGIE3',  'EQTL3',  'EZTC3',  'FLRY3',  'GGBR4',  'GOAU4',\n",
    "           'GOLL4',  'NTCO3',  'SOMA3',  'HAPV3',  'HYPE3',  'IGTA3',  'GNDI3',  'IRBR3',  'ITSA4',  'ITUB4',  'JBSS3', \n",
    "           'JHSF3',  'KLBN11',  'LIGT3',  'RENT3',  'LCAM3',  'LWSA3',  'LAME3',  'LAME4',  'LREN3',  'MGLU3',  'MRFG3',\n",
    "           'CASH3',  'BEEF3',  'MOVI3',  'MRVE3',  'MULT3',  'PCAR3',  'PETR3',  'PETR4',  'BRDT3',  'PRIO3',  'PETZ3',\n",
    "           'PSSA3',  'POSI3',  'QUAL3',  'RADL3',  'RAPT4',  'RDOR3',  'RAIL3',  'SBSP3',  'SAPR11',  'SANB11',  'CSNA3',\n",
    "           'SULA11',  'SUZB3',  'TAEE11',  'TASA4',  'VIVT3',  'TIMS3',  'TOTS3',  'UGPA3',  'USIM5',  'VALE3',  'VIIA3',\n",
    "           'WEGE3',  'YDUQ3',]\n",
    "\n",
    "for i in tickers:\n",
    "    stock_data = request_ticks(i, data_ini, data_fim)\n",
    "    export_ticker(stock_data, i)\n"
   ]
  },
  {
   "cell_type": "code",
   "execution_count": null,
   "id": "5bc91884",
   "metadata": {},
   "outputs": [],
   "source": [
    "#Example\n",
    "#data = pd.read_parquet(\"E:\\Dados Bolsa\\Diário\\BOVA11.parquet.gzip\")"
   ]
  },
  {
   "cell_type": "code",
   "execution_count": 11,
   "id": "46ad8200",
   "metadata": {},
   "outputs": [
    {
     "data": {
      "text/plain": [
       "True"
      ]
     },
     "execution_count": 11,
     "metadata": {},
     "output_type": "execute_result"
    }
   ],
   "source": [
    "# shut down connection to MetaTrader 5\n",
    "mt5.shutdown()"
   ]
  },
  {
   "cell_type": "code",
   "execution_count": null,
   "id": "4a0d7e14",
   "metadata": {},
   "outputs": [],
   "source": []
  }
 ],
 "metadata": {
  "kernelspec": {
   "display_name": "Python 3",
   "language": "python",
   "name": "python3"
  },
  "language_info": {
   "codemirror_mode": {
    "name": "ipython",
    "version": 3
   },
   "file_extension": ".py",
   "mimetype": "text/x-python",
   "name": "python",
   "nbconvert_exporter": "python",
   "pygments_lexer": "ipython3",
   "version": "3.8.8"
  }
 },
 "nbformat": 4,
 "nbformat_minor": 5
}
