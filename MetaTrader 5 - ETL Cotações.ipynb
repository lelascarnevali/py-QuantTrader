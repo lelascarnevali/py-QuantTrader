{
 "cells": [
  {
   "cell_type": "code",
   "execution_count": 1,
   "id": "eae302c9",
   "metadata": {},
   "outputs": [],
   "source": [
    "import MetaTrader5 as mt5\n",
    "import pandas as pd\n",
    "from datetime import datetime, timedelta"
   ]
  },
  {
   "cell_type": "code",
   "execution_count": 2,
   "id": "2e09a68e",
   "metadata": {},
   "outputs": [],
   "source": [
    "# connect to MetaTrader 5\n",
    "if not mt5.initialize():\n",
    "    print('initialize() failed')\n",
    "    mt5.shutdown()"
   ]
  },
  {
   "cell_type": "code",
   "execution_count": 8,
   "id": "50308209",
   "metadata": {},
   "outputs": [],
   "source": [
    "def request_ticks(ticker, data_ini, data_fim, timeframe=mt5.TIMEFRAME_D1):\n",
    "    try:\n",
    "        ticks = mt5.copy_rates_range(\n",
    "            ticker, \n",
    "            timeframe,\n",
    "            data_ini, \n",
    "            data_fim)\n",
    "    \n",
    "        ticks = pd.DataFrame(ticks)\n",
    "        ticks['time']=pd.to_datetime(ticks['time'], unit='s')\n",
    "        ticks = ticks.drop(columns=['tick_volume','spread'])\n",
    "        ticks = ticks.sort_values(by=\"time\", ascending=False)\n",
    "        ticks.rename(columns={'real_volume': 'volume'}, inplace=True)\n",
    "        return(ticks)\n",
    "    except ValeuError:\n",
    "        print ('Erro na extração do Metatrader')"
   ]
  },
  {
   "cell_type": "code",
   "execution_count": 4,
   "id": "1ce1bcb4",
   "metadata": {},
   "outputs": [],
   "source": [
    "def export_ticker(dataframe_ticker, ticker, Export_Type = 'csv'):\n",
    "    try:\n",
    "        if Export_Type == 'parquet':\n",
    "            dataframe_ticker.to_parquet(\"E:\\Dados Bolsa\\Diário\\{}.parquet.gzip\".format(ticker), compression=\"gzip\")\n",
    "        elif Export_Type == 'csv':\n",
    "            dataframe_ticker.to_csv(\"E:\\Dados Bolsa\\Diário\\{}.csv\".format(ticker), sep= \";\", index=False)\n",
    "        elif Export_Type == 'tsv':\n",
    "            dataframe_ticker.to_csv(\"E:\\Dados Bolsa\\Diário\\{}.txt\".format(ticker), sep= \"\\t\", index=False)\n",
    "        print('Sucesso na exportação: ' + ticker)\n",
    "    except ValeuError:\n",
    "        print ('Erro na Exportação: ' + ticker)"
   ]
  },
  {
   "cell_type": "code",
   "execution_count": 9,
   "id": "f8991842",
   "metadata": {},
   "outputs": [
    {
     "name": "stdout",
     "output_type": "stream",
     "text": [
      "Sucesso na exportação: CYRE3\n",
      "Sucesso na exportação: DXCO3\n",
      "Sucesso na exportação: ECOR3\n",
      "Sucesso na exportação: ELET3\n",
      "Sucesso na exportação: ELET6\n",
      "Sucesso na exportação: EMBR3\n",
      "Sucesso na exportação: ENBR3\n",
      "Sucesso na exportação: ENGI11\n",
      "Sucesso na exportação: ENEV3\n",
      "Sucesso na exportação: EGIE3\n",
      "Sucesso na exportação: EQTL3\n",
      "Sucesso na exportação: EZTC3\n",
      "Sucesso na exportação: FLRY3\n",
      "Sucesso na exportação: GGBR4\n",
      "Sucesso na exportação: GOAU4\n",
      "Sucesso na exportação: GOLL4\n",
      "Sucesso na exportação: NTCO3\n",
      "Sucesso na exportação: SOMA3\n",
      "Sucesso na exportação: HAPV3\n",
      "Sucesso na exportação: HYPE3\n",
      "Sucesso na exportação: IGTA3\n",
      "Sucesso na exportação: GNDI3\n",
      "Sucesso na exportação: IRBR3\n",
      "Sucesso na exportação: ITSA4\n",
      "Sucesso na exportação: ITUB4\n",
      "Sucesso na exportação: JBSS3\n",
      "Sucesso na exportação: JHSF3\n",
      "Sucesso na exportação: KLBN11\n",
      "Sucesso na exportação: LIGT3\n",
      "Sucesso na exportação: RENT3\n",
      "Sucesso na exportação: LCAM3\n",
      "Sucesso na exportação: LWSA3\n",
      "Sucesso na exportação: LAME3\n",
      "Sucesso na exportação: LAME4\n",
      "Sucesso na exportação: LREN3\n",
      "Sucesso na exportação: MGLU3\n",
      "Sucesso na exportação: MRFG3\n",
      "Sucesso na exportação: CASH3\n",
      "Sucesso na exportação: BEEF3\n",
      "Sucesso na exportação: MOVI3\n",
      "Sucesso na exportação: MRVE3\n",
      "Sucesso na exportação: MULT3\n",
      "Sucesso na exportação: PCAR3\n",
      "Sucesso na exportação: PETR3\n",
      "Sucesso na exportação: PETR4\n",
      "Sucesso na exportação: BRDT3\n",
      "Sucesso na exportação: PRIO3\n"
     ]
    },
    {
     "ename": "NameError",
     "evalue": "name 'ValeuError' is not defined",
     "output_type": "error",
     "traceback": [
      "\u001b[1;31m---------------------------------------------------------------------------\u001b[0m",
      "\u001b[1;31mKeyError\u001b[0m                                  Traceback (most recent call last)",
      "\u001b[1;32mC:\\ProgramData\\Anaconda3\\lib\\site-packages\\pandas\\core\\indexes\\base.py\u001b[0m in \u001b[0;36mget_loc\u001b[1;34m(self, key, method, tolerance)\u001b[0m\n\u001b[0;32m   3079\u001b[0m             \u001b[1;32mtry\u001b[0m\u001b[1;33m:\u001b[0m\u001b[1;33m\u001b[0m\u001b[1;33m\u001b[0m\u001b[0m\n\u001b[1;32m-> 3080\u001b[1;33m                 \u001b[1;32mreturn\u001b[0m \u001b[0mself\u001b[0m\u001b[1;33m.\u001b[0m\u001b[0m_engine\u001b[0m\u001b[1;33m.\u001b[0m\u001b[0mget_loc\u001b[0m\u001b[1;33m(\u001b[0m\u001b[0mcasted_key\u001b[0m\u001b[1;33m)\u001b[0m\u001b[1;33m\u001b[0m\u001b[1;33m\u001b[0m\u001b[0m\n\u001b[0m\u001b[0;32m   3081\u001b[0m             \u001b[1;32mexcept\u001b[0m \u001b[0mKeyError\u001b[0m \u001b[1;32mas\u001b[0m \u001b[0merr\u001b[0m\u001b[1;33m:\u001b[0m\u001b[1;33m\u001b[0m\u001b[1;33m\u001b[0m\u001b[0m\n",
      "\u001b[1;32mpandas\\_libs\\index.pyx\u001b[0m in \u001b[0;36mpandas._libs.index.IndexEngine.get_loc\u001b[1;34m()\u001b[0m\n",
      "\u001b[1;32mpandas\\_libs\\index.pyx\u001b[0m in \u001b[0;36mpandas._libs.index.IndexEngine.get_loc\u001b[1;34m()\u001b[0m\n",
      "\u001b[1;32mpandas\\_libs\\hashtable_class_helper.pxi\u001b[0m in \u001b[0;36mpandas._libs.hashtable.PyObjectHashTable.get_item\u001b[1;34m()\u001b[0m\n",
      "\u001b[1;32mpandas\\_libs\\hashtable_class_helper.pxi\u001b[0m in \u001b[0;36mpandas._libs.hashtable.PyObjectHashTable.get_item\u001b[1;34m()\u001b[0m\n",
      "\u001b[1;31mKeyError\u001b[0m: 'time'",
      "\nThe above exception was the direct cause of the following exception:\n",
      "\u001b[1;31mKeyError\u001b[0m                                  Traceback (most recent call last)",
      "\u001b[1;32m<ipython-input-8-64956e74d00b>\u001b[0m in \u001b[0;36mrequest_ticks\u001b[1;34m(ticker, data_ini, data_fim, timeframe)\u001b[0m\n\u001b[0;32m      9\u001b[0m         \u001b[0mticks\u001b[0m \u001b[1;33m=\u001b[0m \u001b[0mpd\u001b[0m\u001b[1;33m.\u001b[0m\u001b[0mDataFrame\u001b[0m\u001b[1;33m(\u001b[0m\u001b[0mticks\u001b[0m\u001b[1;33m)\u001b[0m\u001b[1;33m\u001b[0m\u001b[1;33m\u001b[0m\u001b[0m\n\u001b[1;32m---> 10\u001b[1;33m         \u001b[0mticks\u001b[0m\u001b[1;33m[\u001b[0m\u001b[1;34m'time'\u001b[0m\u001b[1;33m]\u001b[0m\u001b[1;33m=\u001b[0m\u001b[0mpd\u001b[0m\u001b[1;33m.\u001b[0m\u001b[0mto_datetime\u001b[0m\u001b[1;33m(\u001b[0m\u001b[0mticks\u001b[0m\u001b[1;33m[\u001b[0m\u001b[1;34m'time'\u001b[0m\u001b[1;33m]\u001b[0m\u001b[1;33m,\u001b[0m \u001b[0munit\u001b[0m\u001b[1;33m=\u001b[0m\u001b[1;34m's'\u001b[0m\u001b[1;33m)\u001b[0m\u001b[1;33m\u001b[0m\u001b[1;33m\u001b[0m\u001b[0m\n\u001b[0m\u001b[0;32m     11\u001b[0m         \u001b[0mticks\u001b[0m \u001b[1;33m=\u001b[0m \u001b[0mticks\u001b[0m\u001b[1;33m.\u001b[0m\u001b[0mdrop\u001b[0m\u001b[1;33m(\u001b[0m\u001b[0mcolumns\u001b[0m\u001b[1;33m=\u001b[0m\u001b[1;33m[\u001b[0m\u001b[1;34m'tick_volume'\u001b[0m\u001b[1;33m,\u001b[0m\u001b[1;34m'spread'\u001b[0m\u001b[1;33m]\u001b[0m\u001b[1;33m)\u001b[0m\u001b[1;33m\u001b[0m\u001b[1;33m\u001b[0m\u001b[0m\n",
      "\u001b[1;32mC:\\ProgramData\\Anaconda3\\lib\\site-packages\\pandas\\core\\frame.py\u001b[0m in \u001b[0;36m__getitem__\u001b[1;34m(self, key)\u001b[0m\n\u001b[0;32m   3023\u001b[0m                 \u001b[1;32mreturn\u001b[0m \u001b[0mself\u001b[0m\u001b[1;33m.\u001b[0m\u001b[0m_getitem_multilevel\u001b[0m\u001b[1;33m(\u001b[0m\u001b[0mkey\u001b[0m\u001b[1;33m)\u001b[0m\u001b[1;33m\u001b[0m\u001b[1;33m\u001b[0m\u001b[0m\n\u001b[1;32m-> 3024\u001b[1;33m             \u001b[0mindexer\u001b[0m \u001b[1;33m=\u001b[0m \u001b[0mself\u001b[0m\u001b[1;33m.\u001b[0m\u001b[0mcolumns\u001b[0m\u001b[1;33m.\u001b[0m\u001b[0mget_loc\u001b[0m\u001b[1;33m(\u001b[0m\u001b[0mkey\u001b[0m\u001b[1;33m)\u001b[0m\u001b[1;33m\u001b[0m\u001b[1;33m\u001b[0m\u001b[0m\n\u001b[0m\u001b[0;32m   3025\u001b[0m             \u001b[1;32mif\u001b[0m \u001b[0mis_integer\u001b[0m\u001b[1;33m(\u001b[0m\u001b[0mindexer\u001b[0m\u001b[1;33m)\u001b[0m\u001b[1;33m:\u001b[0m\u001b[1;33m\u001b[0m\u001b[1;33m\u001b[0m\u001b[0m\n",
      "\u001b[1;32mC:\\ProgramData\\Anaconda3\\lib\\site-packages\\pandas\\core\\indexes\\base.py\u001b[0m in \u001b[0;36mget_loc\u001b[1;34m(self, key, method, tolerance)\u001b[0m\n\u001b[0;32m   3081\u001b[0m             \u001b[1;32mexcept\u001b[0m \u001b[0mKeyError\u001b[0m \u001b[1;32mas\u001b[0m \u001b[0merr\u001b[0m\u001b[1;33m:\u001b[0m\u001b[1;33m\u001b[0m\u001b[1;33m\u001b[0m\u001b[0m\n\u001b[1;32m-> 3082\u001b[1;33m                 \u001b[1;32mraise\u001b[0m \u001b[0mKeyError\u001b[0m\u001b[1;33m(\u001b[0m\u001b[0mkey\u001b[0m\u001b[1;33m)\u001b[0m \u001b[1;32mfrom\u001b[0m \u001b[0merr\u001b[0m\u001b[1;33m\u001b[0m\u001b[1;33m\u001b[0m\u001b[0m\n\u001b[0m\u001b[0;32m   3083\u001b[0m \u001b[1;33m\u001b[0m\u001b[0m\n",
      "\u001b[1;31mKeyError\u001b[0m: 'time'",
      "\nDuring handling of the above exception, another exception occurred:\n",
      "\u001b[1;31mNameError\u001b[0m                                 Traceback (most recent call last)",
      "\u001b[1;32m<ipython-input-9-e2d8c110c72a>\u001b[0m in \u001b[0;36m<module>\u001b[1;34m\u001b[0m\n\u001b[0;32m     11\u001b[0m \u001b[1;33m\u001b[0m\u001b[0m\n\u001b[0;32m     12\u001b[0m \u001b[1;32mfor\u001b[0m \u001b[0mi\u001b[0m \u001b[1;32min\u001b[0m \u001b[0mtickers\u001b[0m\u001b[1;33m:\u001b[0m\u001b[1;33m\u001b[0m\u001b[1;33m\u001b[0m\u001b[0m\n\u001b[1;32m---> 13\u001b[1;33m     \u001b[0mstock_data\u001b[0m \u001b[1;33m=\u001b[0m \u001b[0mrequest_ticks\u001b[0m\u001b[1;33m(\u001b[0m\u001b[0mi\u001b[0m\u001b[1;33m,\u001b[0m \u001b[0mdata_ini\u001b[0m\u001b[1;33m,\u001b[0m \u001b[0mdata_fim\u001b[0m\u001b[1;33m)\u001b[0m\u001b[1;33m\u001b[0m\u001b[1;33m\u001b[0m\u001b[0m\n\u001b[0m\u001b[0;32m     14\u001b[0m     \u001b[0mexport_ticker\u001b[0m\u001b[1;33m(\u001b[0m\u001b[0mstock_data\u001b[0m\u001b[1;33m,\u001b[0m \u001b[0mi\u001b[0m\u001b[1;33m)\u001b[0m\u001b[1;33m\u001b[0m\u001b[1;33m\u001b[0m\u001b[0m\n",
      "\u001b[1;32m<ipython-input-8-64956e74d00b>\u001b[0m in \u001b[0;36mrequest_ticks\u001b[1;34m(ticker, data_ini, data_fim, timeframe)\u001b[0m\n\u001b[0;32m     13\u001b[0m         \u001b[0mticks\u001b[0m\u001b[1;33m.\u001b[0m\u001b[0mrename\u001b[0m\u001b[1;33m(\u001b[0m\u001b[0mcolumns\u001b[0m\u001b[1;33m=\u001b[0m\u001b[1;33m{\u001b[0m\u001b[1;34m'real_volume'\u001b[0m\u001b[1;33m:\u001b[0m \u001b[1;34m'volume'\u001b[0m\u001b[1;33m}\u001b[0m\u001b[1;33m,\u001b[0m \u001b[0minplace\u001b[0m\u001b[1;33m=\u001b[0m\u001b[1;32mTrue\u001b[0m\u001b[1;33m)\u001b[0m\u001b[1;33m\u001b[0m\u001b[1;33m\u001b[0m\u001b[0m\n\u001b[0;32m     14\u001b[0m         \u001b[1;32mreturn\u001b[0m\u001b[1;33m(\u001b[0m\u001b[0mticks\u001b[0m\u001b[1;33m)\u001b[0m\u001b[1;33m\u001b[0m\u001b[1;33m\u001b[0m\u001b[0m\n\u001b[1;32m---> 15\u001b[1;33m     \u001b[1;32mexcept\u001b[0m \u001b[0mValeuError\u001b[0m\u001b[1;33m:\u001b[0m\u001b[1;33m\u001b[0m\u001b[1;33m\u001b[0m\u001b[0m\n\u001b[0m\u001b[0;32m     16\u001b[0m         \u001b[0mprint\u001b[0m \u001b[1;33m(\u001b[0m\u001b[1;34m'Erro na extração do Metatrader'\u001b[0m\u001b[1;33m)\u001b[0m\u001b[1;33m\u001b[0m\u001b[1;33m\u001b[0m\u001b[0m\n",
      "\u001b[1;31mNameError\u001b[0m: name 'ValeuError' is not defined"
     ]
    }
   ],
   "source": [
    "data_ini = datetime(2008, 1, 1)\n",
    "data_fim = datetime(2021, 12, 31)\n",
    "tickers = ['IBOV', 'ALPA4',  'ABEV3',  'AMER3',  'ASAI3',  'AZUL4',  'B3SA3',  'BIDI4',  'BIDI11',  'BPAN4',  'BBSE3',\n",
    "           'BRML3',  'BBDC3',  'BBDC4',  'BRAP4',  'BBAS3',  'BRKM5',  'BRFS3',  'BPAC11',  'CRFB3',  'CCRO3',  'CMIG4',\n",
    "           'CESP6',  'CIEL3',  'COGN3',  'CPLE6',  'CSAN3',  'CPFE3',  'CVCB3',  'CYRE3',  'DXCO3',  'ECOR3',  'ELET3',\n",
    "           'ELET6',  'EMBR3',  'ENBR3',  'ENGI11',  'ENEV3',  'EGIE3',  'EQTL3',  'EZTC3',  'FLRY3',  'GGBR4',  'GOAU4',\n",
    "           'GOLL4',  'NTCO3',  'SOMA3',  'HAPV3',  'HYPE3',  'IGTA3',  'GNDI3',  'IRBR3',  'ITSA4',  'ITUB4',  'JBSS3', \n",
    "           'JHSF3',  'KLBN11',  'LIGT3',  'RENT3',  'LCAM3',  'LWSA3',  'LAME3',  'LAME4',  'LREN3',  'MGLU3',  'MRFG3',\n",
    "           'CASH3',  'BEEF3',  'MOVI3',  'MRVE3',  'MULT3',  'PCAR3',  'PETR3',  'PETR4',  'BRDT3',  'PRIO3',  'PETZ3',\n",
    "           'PSSA3',  'POSI3',  'QUAL3',  'RADL3',  'RAPT4',  'RDOR3',  'RAIL3',  'SBSP3',  'SAPR11',  'SANB11',  'CSNA3',\n",
    "           'SULA11',  'SUZB3',  'TAEE11',  'TASA4',  'VIVT3',  'TIMS3',  'TOTS3',  'UGPA3',  'USIM5',  'VALE3',  'VIIA3',\n",
    "           'WEGE3',  'YDUQ3',]\n",
    "\n",
    "for i in tickers:\n",
    "    stock_data = request_ticks(i, data_ini, data_fim)\n",
    "    export_ticker(stock_data, i)\n"
   ]
  },
  {
   "cell_type": "code",
   "execution_count": null,
   "id": "5bc91884",
   "metadata": {},
   "outputs": [],
   "source": [
    "#Example\n",
    "#data = pd.read_parquet(\"E:\\Dados Bolsa\\Diário\\BOVA11.parquet.gzip\")"
   ]
  },
  {
   "cell_type": "code",
   "execution_count": null,
   "id": "46ad8200",
   "metadata": {},
   "outputs": [],
   "source": [
    "# shut down connection to MetaTrader 5\n",
    "mt5.shutdown()"
   ]
  }
 ],
 "metadata": {
  "kernelspec": {
   "display_name": "Python 3",
   "language": "python",
   "name": "python3"
  },
  "language_info": {
   "codemirror_mode": {
    "name": "ipython",
    "version": 3
   },
   "file_extension": ".py",
   "mimetype": "text/x-python",
   "name": "python",
   "nbconvert_exporter": "python",
   "pygments_lexer": "ipython3",
   "version": "3.8.8"
  }
 },
 "nbformat": 4,
 "nbformat_minor": 5
}
